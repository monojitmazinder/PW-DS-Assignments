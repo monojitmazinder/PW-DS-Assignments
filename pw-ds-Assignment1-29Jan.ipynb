{
 "cells": [
  {
   "cell_type": "markdown",
   "id": "43c8d421-3280-4544-b667-caaee5c5e8cd",
   "metadata": {},
   "source": [
    "#1. Who developed Python Programming Language?"
   ]
  },
  {
   "cell_type": "markdown",
   "id": "0373dd36-02b0-4443-b43d-ce4756f4fc3e",
   "metadata": {},
   "source": [
    "#Ans.-1: Python programming language was developed by Guido van Rossum."
   ]
  },
  {
   "cell_type": "markdown",
   "id": "f83fb5b4-649e-4690-98d3-2871a902076c",
   "metadata": {},
   "source": [
    "#2.Which type of Programming does Python support?"
   ]
  },
  {
   "cell_type": "markdown",
   "id": "af91b96f-154f-4623-b609-8368a8abbbd9",
   "metadata": {},
   "source": [
    "#Ans.2: Python is a versatile programming language that supports various programming paradigms, including:\n",
    "\n",
    "A) Imperative Programming\n",
    "B) Object-Oriented Programming (OOP)\n",
    "C) Functional Programming\n",
    "D) Structured Programming\n",
    "E) Scripting\n",
    "F) Dynamic Typing\n",
    "G) Multi-Paradigm etc."
   ]
  },
  {
   "cell_type": "markdown",
   "id": "2970141a-aeec-4d98-b08c-ed5fec2679bd",
   "metadata": {},
   "source": [
    "#3. Is Python case sensitive when dealing with identifier?"
   ]
  },
  {
   "cell_type": "markdown",
   "id": "55ca6198-8bf1-4b2f-ade3-117ca73b1997",
   "metadata": {},
   "source": [
    "#Ans.3: Yes, Python is case-sensitive when dealing with identifiers. This means that it treats uppercase and lowercase characters differently. This applies to identifiers too. For example, name and Name are not same in python."
   ]
  },
  {
   "cell_type": "markdown",
   "id": "abca0c3d-711f-4872-8812-ddf4ec86d340",
   "metadata": {},
   "source": [
    "#4. What is the correct extension of the Python file?"
   ]
  },
  {
   "cell_type": "markdown",
   "id": "1e992339-6985-4fd1-9c2e-a67a9f7b12cb",
   "metadata": {},
   "source": [
    "#Ans.4: The correct extension for a Python file is .py. When we save Python code in a file, we should give it a name with the .py extension. For example, program.py are valid file names for Python scripts."
   ]
  },
  {
   "cell_type": "markdown",
   "id": "2e282ea1-47ce-4b12-adf7-37957ccd9928",
   "metadata": {},
   "source": [
    "#5. Is Puthon code compiled or interpreted?"
   ]
  },
  {
   "cell_type": "markdown",
   "id": "3ab2f75e-5df3-4003-81a3-6e6f6bede1d1",
   "metadata": {},
   "source": [
    "#Ans.5: Python code goes through a compilation step to bytecode, which is then interpreted and executed by the Python Virtual Machine. This combination of compilation and interpretation is what makes Python both a compiled and interpreted language."
   ]
  },
  {
   "cell_type": "markdown",
   "id": "3d0a2ffb-d836-455d-a17d-9e7f376c1aff",
   "metadata": {},
   "source": [
    "#6. Name a few blocks of code used to define in Python Languesge?"
   ]
  },
  {
   "cell_type": "markdown",
   "id": "4c4cc04b-e60d-40bb-98aa-5c86ecb2175e",
   "metadata": {},
   "source": [
    "#Ans.6: In Python, code blocks are defined using indentation. Indentation is a fundamental aspect of the language's syntax for structuring code. Here are\n",
    "A. Conditional Statements (if, elif, else)\n",
    "B. Loops (for and while loops)\n",
    "C. Function Definitions\n",
    "D. Classes and Methods\n",
    "E. Exception Handling (try, except, finally) etc.\n"
   ]
  },
  {
   "cell_type": "markdown",
   "id": "53eaa22b-172a-45d4-916d-66a5d0f079d5",
   "metadata": {},
   "source": [
    "#7. State a character used to give single-line comments in Python? "
   ]
  },
  {
   "cell_type": "markdown",
   "id": "f29bb6cf-73b9-4d88-b44a-4a83c81222e9",
   "metadata": {},
   "source": [
    "#Ans.7: In Python, the hash symbol (#) is used to create single-line comments. Anything after the # symbol on the same line is considered a comment and is ignored by the Python interpreter. Comments are used to provide explanations, notes, or documentation within the code for better understanding."
   ]
  },
  {
   "cell_type": "markdown",
   "id": "5e9af0ff-ed01-43dd-b717-fd5d7ac9dcd1",
   "metadata": {},
   "source": [
    "#8. Mention Functions which can help us to find the version of python that we are currently working on?"
   ]
  },
  {
   "cell_type": "markdown",
   "id": "616ffef4-63ca-460e-9893-ccd13a0d5c57",
   "metadata": {},
   "source": [
    "#Ans.8: The function sys. version can help us to find the version of python that we are currently working on. For example given below:"
   ]
  },
  {
   "cell_type": "code",
   "execution_count": 2,
   "id": "9269a27e-015d-4fea-a5a3-557fe781c3fd",
   "metadata": {},
   "outputs": [
    {
     "name": "stdout",
     "output_type": "stream",
     "text": [
      "Python version\n",
      "3.10.8 | packaged by conda-forge | (main, Nov 22 2022, 08:26:04) [GCC 10.4.0]\n",
      "Version info.\n",
      "sys.version_info(major=3, minor=10, micro=8, releaselevel='final', serial=0)\n"
     ]
    }
   ],
   "source": [
    "import sys\n",
    "\n",
    "print(\"Python version\")\n",
    "print(sys.version)\n",
    "print(\"Version info.\")\n",
    "print(sys.version_info)\n"
   ]
  },
  {
   "cell_type": "markdown",
   "id": "e9f5fa72-0516-468b-a167-c9314ce1276a",
   "metadata": {},
   "source": [
    "#9. Python supports the creation of anonymous functions at runtime, using a construct called"
   ]
  },
  {
   "cell_type": "markdown",
   "id": "97e5824c-2756-4a8e-89ae-6cbe4d7e0d1b",
   "metadata": {},
   "source": [
    "#Ans.9: Python supports the creation of anonymous functions at runtime using a construct called \"lambda\" functions. Lambda functions are also referred to as lambda expressions or lambda forms. They are used for creating small, one-time-use functions without explicitly defining a full function using the def keyword."
   ]
  },
  {
   "cell_type": "markdown",
   "id": "3186c3a7-23be-4129-8a2c-6468b93344f4",
   "metadata": {},
   "source": [
    "#10. What does pip stand for Python?"
   ]
  },
  {
   "cell_type": "markdown",
   "id": "34ff926e-b85f-4f61-b606-f0ad6439b01b",
   "metadata": {},
   "source": [
    "#Ans.10: In Python, \"pip\" stands for \"Pip Installs Packages\" or sometimes recursively expanded as \"Pip Installs Python\". Alternatively, pip stands for \"preferred installer program\". It is the default package manager for Python and is used to install and manage software packages written in Python."
   ]
  },
  {
   "cell_type": "markdown",
   "id": "c768e353-e18f-4cac-a71e-36c7cf11324c",
   "metadata": {},
   "source": [
    "#11. Mention a few built-in funtions in Python?"
   ]
  },
  {
   "cell_type": "markdown",
   "id": "9e6a7ad7-3c0a-4b86-99ad-4b145e3d79c5",
   "metadata": {},
   "source": [
    "#Ans.11: Python comes with a rich set of built-in functions that provide essential functionality for various tasks. Here are a few examples:\n",
    "\n",
    "A. print() B. type() C. len() D. int(), float(), str() E. range()\n",
    "F. find() G. count() H. upper(), lower(), title() etc."
   ]
  },
  {
   "cell_type": "markdown",
   "id": "7f2c9382-2a41-4d9c-a169-3e683e9c4cca",
   "metadata": {},
   "source": [
    "#12. What is the maximum possible length of an identifier in Python?"
   ]
  },
  {
   "cell_type": "markdown",
   "id": "1211b028-7272-41be-89ea-6a375c3a350b",
   "metadata": {},
   "source": [
    "#Ans.11: In Python, the maximum length of an identifier (variable name, function name, class name, etc.) is not explicitly defined by a fixed character count. However, there is a practical limit based on what is reasonable and maintainable in code.\n",
    "\n",
    "PEP 8, the official style guide for Python code, recommends limiting all lines of code (including comments and docstrings) to a maximum of 79 characters. This guideline is not strict and is meant to ensure readability and maintainability."
   ]
  },
  {
   "cell_type": "markdown",
   "id": "a90b27a4-0e7e-42a7-a0f0-6f405cd277d6",
   "metadata": {},
   "source": [
    "#13. What are the benefits of using Python?"
   ]
  },
  {
   "cell_type": "markdown",
   "id": "7d8a1410-bcd8-4906-b44a-0a03346dfc3f",
   "metadata": {},
   "source": [
    "#Ans.13: Python is a versatile and popular programming language known for its simplicity, readability, and wide range of applications. Here are some of the benefits of using Python:\n",
    "\n",
    "*1.Easy to Learn and Read\n",
    "*2.Open Source\n",
    "*3.Support for Different Programming Paradigms\n",
    "*4.Large and Active Community\n",
    "*5.Cross-Platform Compatibility\n",
    "*6.Vast Standard Library\n",
    "*7.Rich Ecosystem\n",
    "*8.High Productivity\n",
    "*9.Diverse Applications\n",
    "*10.Automation and Scripting\n",
    "*11.Community Packages and Tools\n",
    "\n",
    "These benefits contribute to Python's popularity and widespread use across various industries and domains."
   ]
  },
  {
   "cell_type": "markdown",
   "id": "31a93c49-ea2e-4bd6-a083-a0047b7fbd15",
   "metadata": {},
   "source": [
    "#14. How is memory managed in Python?\n"
   ]
  },
  {
   "cell_type": "markdown",
   "id": "9aeefe67-5366-4c29-b14f-cb92a2caf1fb",
   "metadata": {},
   "source": [
    "#Ans.14: According to the Python memory management documentation, Python has a private heap that stores our program’s objects and data structures. Python memory manager takes care of the bulk of the memory management work and allows us to concentrate on our code."
   ]
  },
  {
   "cell_type": "markdown",
   "id": "8166e8a8-f80a-463c-a0a0-b5a197ef7b17",
   "metadata": {},
   "source": [
    "#15. How to install Python on Windows and set path variables?"
   ]
  },
  {
   "cell_type": "markdown",
   "id": "3d640907-7fb9-4c59-84dd-f3b04b2d970c",
   "metadata": {},
   "source": [
    "#Ans.15: To install Python on Windows and set up the necessary path variables, follow these steps:\n",
    "\n",
    "1. Download Python:\n",
    "\n",
    "*Visit the official Python website at https://www.python.org/downloads/windows/\n",
    "\n",
    "*Choose the version of Python you want to install. As of my last update in September 2021, it's recommended to install the latest version (Python 3.x).\n",
    "\n",
    "*Click on the \"Download\" button for the installer that corresponds to your version of Windows (32-bit or 64-bit).\n",
    "\n",
    "2. Run the Installer:\n",
    "\n",
    "*Run the downloaded installer executable (.exe) file.\n",
    "\n",
    "*Make sure to check the box that says \"Add Python x.x to PATH\" during the installation process. This step is crucial to automatically set up the necessary path variables.\n",
    "\n",
    "3. Verify the Installation:\n",
    "\n",
    "*Open the Command Prompt by searching for \"cmd\" in the Windows Start menu.\n",
    "\n",
    "*Type python and press Enter. This should start the Python interpreter and display the version information.\n",
    "\n",
    "4. Set up Environment Variables (Optional):\n",
    "\n",
    "If you didn't check the \"Add Python x.x to PATH\" option during installation or need to modify the path manually:\n",
    "\n",
    "*Open the Windows Start menu, right-click on \"Computer\" or \"This PC,\" and select \"Properties.\"\n",
    "\n",
    "*Click on \"Advanced system settings\" on the left-hand side.\n",
    "In the System Properties window, click the \"Environment Variables\" button.\n",
    "\n",
    "*Under \"System variables,\" find the \"Path\" variable and click \"Edit.\"\n",
    "\n",
    "*Add the path to the Python installation directory (e.g., C:\\Python39) at the end of the list. Make sure to separate it from existing entries with a semicolon (;).\n",
    "\n",
    "5. Verify Path Variable:\n",
    "\n",
    "*Open a new Command Prompt window.\n",
    "\n",
    "*Type python and press Enter. If Python starts without errors, your path variable is correctly set.\n",
    "\n",
    "That's it! You've successfully installed Python on Windows and set up the necessary path variables. You can now use Python from the Command Prompt or any other development environment. Remember that these instructions are based on my knowledge as of September 2021, so the installation process might have minor changes with newer versions of Python.\n",
    "\n",
    "\n",
    "\n",
    "\n",
    "\n"
   ]
  },
  {
   "cell_type": "markdown",
   "id": "baa253bf-e450-4423-8695-26d9bb673f89",
   "metadata": {},
   "source": [
    "#16. Is indentation required in python?"
   ]
  },
  {
   "cell_type": "markdown",
   "id": "55ff6454-b301-4b82-803f-6a6ab1de706a",
   "metadata": {},
   "source": [
    "#Ans.16: Yes, indentation is required in Python. Indentation is not just a matter of style; it is a fundamental aspect of Python's syntax and structure. Unlike many other programming languages that use braces or keywords to define code blocks, Python uses indentation to delimit blocks of code.\n",
    "\n",
    "Indentation is used to indicate the scope and hierarchy of code blocks, such as loops, conditionals, function definitions, and classes. Proper and consistent indentation is crucial for Python code to be both syntactically correct and understandable."
   ]
  },
  {
   "cell_type": "code",
   "execution_count": null,
   "id": "b5decbcd-6217-4d9e-b5f2-eae21abedc4d",
   "metadata": {},
   "outputs": [],
   "source": []
  }
 ],
 "metadata": {
  "kernelspec": {
   "display_name": "Python 3 (ipykernel)",
   "language": "python",
   "name": "python3"
  },
  "language_info": {
   "codemirror_mode": {
    "name": "ipython",
    "version": 3
   },
   "file_extension": ".py",
   "mimetype": "text/x-python",
   "name": "python",
   "nbconvert_exporter": "python",
   "pygments_lexer": "ipython3",
   "version": "3.10.8"
  }
 },
 "nbformat": 4,
 "nbformat_minor": 5
}
